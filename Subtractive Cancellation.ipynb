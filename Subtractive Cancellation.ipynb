{
 "cells": [
  {
   "cell_type": "markdown",
   "metadata": {},
   "source": [
    "# Quadratic Equation"
   ]
  },
  {
   "cell_type": "code",
   "execution_count": 1,
   "metadata": {},
   "outputs": [],
   "source": [
    "import numpy as np\n",
    "import math"
   ]
  },
  {
   "cell_type": "markdown",
   "metadata": {},
   "source": [
    "## The quadratic formula says that the roots of \n",
    "$ ax^2 + bx + c = 0 $\n",
    "\n",
    "## are given by\n",
    "\n",
    "$ x = \\frac{-b \\pm \\sqrt{b^2 - 4ac}}{2a} $"
   ]
  },
  {
   "cell_type": "markdown",
   "metadata": {},
   "source": [
    "### So what happens if we set the value of b to be much larger than 4ac?\n",
    "\n",
    "Here we set:\n",
    "a = 1, b = 10^8, c = 1"
   ]
  },
  {
   "cell_type": "code",
   "execution_count": 2,
   "metadata": {},
   "outputs": [
    {
     "name": "stdout",
     "output_type": "stream",
     "text": [
      "(-7.450580596923828e-09, -100000000.0)\n"
     ]
    }
   ],
   "source": [
    "from math import sqrt\n",
    "\n",
    "def quadratic(a, b, c):\n",
    "    r = sqrt(b**2 - 4*a*c)\n",
    "    x1 = ((-b + r)/(2*a))\n",
    "    x2 = ((-b - r)/(2*a))\n",
    "    return x1, x2\n",
    "\n",
    "print(quadratic(1, 1e8, 1))"
   ]
  },
  {
   "cell_type": "code",
   "execution_count": 3,
   "metadata": {},
   "outputs": [
    {
     "data": {
      "text/plain": [
       "array([-1.e+08, -1.e-08])"
      ]
     },
     "execution_count": 3,
     "metadata": {},
     "output_type": "execute_result"
    }
   ],
   "source": [
    "coeff = [1, 1e8, 1]\n",
    "np.roots(coeff)"
   ]
  },
  {
   "cell_type": "markdown",
   "metadata": {},
   "source": [
    "### Upon comparison to the values obtained from np.roots, the first root is wrong, while the second one is correct.\n",
    "This is because the more similar two numbers are, the more precision you can lose from subtracting them. \n",
    "\n",
    "### In this case $ \\sqrt{b^2 - 4ac} $ is very nearly equal to b"
   ]
  },
  {
   "cell_type": "markdown",
   "metadata": {},
   "source": [
    "## Improving our precision by using the second equation in the lecture notes:"
   ]
  },
  {
   "cell_type": "code",
   "execution_count": 4,
   "metadata": {},
   "outputs": [
    {
     "name": "stdout",
     "output_type": "stream",
     "text": [
      "(-1e-08, -134217728.0)\n"
     ]
    }
   ],
   "source": [
    "def quadratic_prime(a, b, c):\n",
    "    r = sqrt(b**2 - 4*a*c)\n",
    "    x1 = 2*c/(-b - r)\n",
    "    x2 = 2*c/(-b+r)\n",
    "    return (x1, x2)\n",
    "\n",
    "print(quadratic_prime(1, 1e8, 1))"
   ]
  },
  {
   "cell_type": "markdown",
   "metadata": {},
   "source": [
    "### We now notice that it gives the right answer to the first root, however now our second root is wrong.\n",
    "This is because of the same reason that we subtracted two nearly equal numbers.\n",
    "\n",
    "### We learn that the first version of the quadratic formula computes the larger root correctly, while the second version computes the smaller root correctly."
   ]
  },
  {
   "cell_type": "markdown",
   "metadata": {},
   "source": [
    "### Investigating how errors in the computed answers become large as the subtractive cancellation increases\n",
    "\n",
    "To test we will utilize the following parameters:\n",
    "a = 1\n",
    "b = 1\n",
    "c = 10^-n (n = 1,2,3, ...)"
   ]
  },
  {
   "cell_type": "code",
   "execution_count": 5,
   "metadata": {},
   "outputs": [],
   "source": [
    "def quadratic_test(c):\n",
    "    a = 1\n",
    "    b = 1\n",
    "    r = sqrt(b**2 - 4*a*c)\n",
    "    firstroot.append((-b + r)/(2*a))\n",
    "    secondroot.append((-b - r)/(2*a))"
   ]
  },
  {
   "cell_type": "code",
   "execution_count": 6,
   "metadata": {},
   "outputs": [
    {
     "data": {
      "text/plain": [
       "[(-0.1127016653792583, -0.8872983346207417),\n",
       " (-0.010102051443364402, -0.9898979485566356),\n",
       " (-0.0010010020050140178, -0.998998997994986),\n",
       " (-0.00010001000200049459, -0.9998999899979994),\n",
       " (-1.0000100002016676e-05, -0.9999899998999979),\n",
       " (-1.000001000006634e-06, -0.999998999999),\n",
       " (-1.0000000999488279e-07, -0.99999989999999),\n",
       " (-1.0000000105758744e-08, -0.9999999899999998),\n",
       " (-1.0000000272292198e-09, -0.9999999989999999),\n",
       " (-1.000000082740371e-10, -0.9999999999),\n",
       " (-1.000000082740371e-11, -0.99999999999),\n",
       " (-1.0000333894311098e-12, -0.9999999999989999),\n",
       " (-1.000310945187266e-13, -0.9999999999999),\n",
       " (-9.992007221626409e-15, -0.99999999999999),\n",
       " (-9.992007221626409e-16, -0.999999999999999),\n",
       " (-1.1102230246251565e-16, -0.9999999999999999),\n",
       " (0.0, -1.0),\n",
       " (0.0, -1.0),\n",
       " (0.0, -1.0),\n",
       " (0.0, -1.0)]"
      ]
     },
     "execution_count": 6,
     "metadata": {},
     "output_type": "execute_result"
    }
   ],
   "source": [
    "firstroot = []\n",
    "secondroot = []\n",
    "c = []\n",
    "for i in range(1,21):\n",
    "    c.append(10**-i)\n",
    "\n",
    "for i in c:\n",
    "    quadratic_test(i)\n",
    "\n",
    "normalqeroots = list(zip(firstroot, secondroot))\n",
    "normalqeroots"
   ]
  },
  {
   "cell_type": "code",
   "execution_count": 7,
   "metadata": {},
   "outputs": [],
   "source": [
    "firstrootprime = []\n",
    "secondrootprime = []\n",
    "\n",
    "def quadratic_prime_test(c):\n",
    "    a = 1 \n",
    "    b = 1\n",
    "    r = sqrt(b**2 - 4*a*c)\n",
    "    firstrootprime.append((2*c)/(-b - r))\n",
    "    secondrootprime.append((2*c)/(-b+r))"
   ]
  },
  {
   "cell_type": "code",
   "execution_count": 8,
   "metadata": {},
   "outputs": [
    {
     "data": {
      "text/plain": [
       "[(-0.11270166537925831, -0.8872983346207418),\n",
       " (-0.01010205144336438, -0.9898979485566336),\n",
       " (-0.001001002005014042, -0.9989989979950102),\n",
       " (-0.00010001000200050015, -0.9998999899980551),\n",
       " (-1.000010000200005e-05, -0.9999899998983355),\n",
       " (-1.000001000002e-06, -0.999998999994366),\n",
       " (-1.00000010000002e-07, -0.9999999000511821),\n",
       " (-1.0000000100000004e-08, -0.9999999894241257),\n",
       " (-1.0000000010000002e-09, -0.999999972770781),\n",
       " (-1.0000000001000001e-10, -0.9999999172596359)]"
      ]
     },
     "execution_count": 8,
     "metadata": {},
     "output_type": "execute_result"
    }
   ],
   "source": [
    "c_prime = []\n",
    "\n",
    "for i in range(1,11):\n",
    "    c_prime.append(10**-i)\n",
    "\n",
    "for i in c_prime:\n",
    "    quadratic_prime_test(i)\n",
    "\n",
    "primeqeroots = list(zip(firstrootprime, secondrootprime))\n",
    "primeqeroots"
   ]
  },
  {
   "cell_type": "markdown",
   "metadata": {},
   "source": [
    "### Using the product of roots, we can calculate for x1 using the equation:\n",
    "\n",
    "$ x_1 = \\frac{c}{ax_2} $\n",
    "\n",
    "### So that we no longer need to use the second equation to calculate for the smaller root."
   ]
  },
  {
   "cell_type": "code",
   "execution_count": 9,
   "metadata": {},
   "outputs": [],
   "source": [
    "def quadratic_precise(b):\n",
    "    a = 1\n",
    "    c = 1\n",
    "    r = sqrt(b**2 - 4*a*c)\n",
    "    x2 = ((-b - r)/(2*a))\n",
    "    x1 = (c/(a*x2))\n",
    "    return x2, x1"
   ]
  },
  {
   "cell_type": "code",
   "execution_count": 10,
   "metadata": {},
   "outputs": [
    {
     "data": {
      "text/plain": [
       "(-100000000.0, -1e-08)"
      ]
     },
     "execution_count": 10,
     "metadata": {},
     "output_type": "execute_result"
    }
   ],
   "source": [
    "quadratic_precise(1e8)"
   ]
  },
  {
   "cell_type": "markdown",
   "metadata": {},
   "source": [
    "### We have now obtained the exact roots of the equation"
   ]
  },
  {
   "cell_type": "markdown",
   "metadata": {},
   "source": [
    "# Summing Series with Alternating Signs"
   ]
  },
  {
   "cell_type": "markdown",
   "metadata": {},
   "source": [
    "### Creating a double-precision function that calculates the three series"
   ]
  },
  {
   "cell_type": "code",
   "execution_count": 11,
   "metadata": {},
   "outputs": [],
   "source": [
    "def SN1(n):\n",
    "    terms = []\n",
    "    for n in range(1, 2*n + 1 ):\n",
    "        val = (-1)**n * n / (n+1)\n",
    "        terms.append(val)\n",
    "    return sum(terms)\n",
    "\n",
    "def SN2(n):\n",
    "    terms = []\n",
    "    for n in range(1, n + 1):\n",
    "        val = (2*n) / (2* n + 1) - (2*n - 1) / (2 * n)\n",
    "        terms.append(val)\n",
    "    return sum(terms)\n",
    "\n",
    "def SN3(n):\n",
    "    terms = []\n",
    "    for n in range(1, n + 1):\n",
    "        val = 1 / (2 * n * (2 * n + 1))\n",
    "        terms.append(val)\n",
    "    return sum(terms)"
   ]
  },
  {
   "cell_type": "markdown",
   "metadata": {},
   "source": [
    "### Plotting the relative error vs. the number of terms, assuming that SN3 is the exact answer"
   ]
  },
  {
   "cell_type": "code",
   "execution_count": 12,
   "metadata": {},
   "outputs": [],
   "source": [
    "x = range(1, 1000000)\n",
    "y = []\n",
    "for n in x:\n",
    "    val = (SN1(n) - SN3(n)) / (SN3(n))\n",
    "    y.append(abs(val))"
   ]
  },
  {
   "cell_type": "code",
   "execution_count": 13,
   "metadata": {},
   "outputs": [],
   "source": [
    "import matplotlib.pyplot as plt"
   ]
  },
  {
   "cell_type": "code",
   "execution_count": 14,
   "metadata": {},
   "outputs": [
    {
     "data": {
      "text/plain": [
       "Text(0, 0.5, 'Relative Error')"
      ]
     },
     "execution_count": 14,
     "metadata": {},
     "output_type": "execute_result"
    },
    {
     "data": {
      "image/png": "[encoded data removed]",
      "text/plain": [
       "<Figure size 432x288 with 1 Axes>"
      ]
     },
     "metadata": {
      "needs_background": "light"
     },
     "output_type": "display_data"
    }
   ],
   "source": [
    "plt.loglog(x, y)\n",
    "plt.xlabel('Number of terms')\n",
    "plt.ylabel('Relative Error')"
   ]
  },
  {
   "cell_type": "code",
   "execution_count": null,
   "metadata": {},
   "outputs": [],
   "source": []
  },
  {
   "cell_type": "code",
   "execution_count": null,
   "metadata": {},
   "outputs": [],
   "source": []
  }
 ],
 "metadata": {
  "kernelspec": {
   "display_name": "Python 3",
   "language": "python",
   "name": "python3"
  },
  "language_info": {
   "codemirror_mode": {
    "name": "ipython",
    "version": 3
   },
   "file_extension": ".py",
   "mimetype": "text/x-python",
   "name": "python",
   "nbconvert_exporter": "python",
   "pygments_lexer": "ipython3",
   "version": "3.8.5"
  }
 },
 "nbformat": 4,
 "nbformat_minor": 4
}
