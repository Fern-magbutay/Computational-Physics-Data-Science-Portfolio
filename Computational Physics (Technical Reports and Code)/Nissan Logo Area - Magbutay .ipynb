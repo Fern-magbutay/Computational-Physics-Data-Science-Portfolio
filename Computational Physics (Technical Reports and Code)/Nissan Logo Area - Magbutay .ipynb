{
 "cells": [
  {
   "cell_type": "code",
   "execution_count": 1,
   "metadata": {},
   "outputs": [],
   "source": [
    "import random\n",
    "import numpy as np\n",
    "import time"
   ]
  },
  {
   "cell_type": "markdown",
   "metadata": {},
   "source": [
    "# For the Circle"
   ]
  },
  {
   "cell_type": "code",
   "execution_count": 2,
   "metadata": {},
   "outputs": [],
   "source": [
    "def MC(func, a, b, n):\n",
    "    \n",
    "    f = func\n",
    "    x = np.random.uniform(a, b, n)\n",
    "    w = b - a\n",
    "    \n",
    "    return w * sum(f(x))/n"
   ]
  },
  {
   "cell_type": "code",
   "execution_count": 3,
   "metadata": {},
   "outputs": [],
   "source": [
    "def area_circ_segment(x):\n",
    "    return np.sqrt(R**2 - x**2) - x**0 * R * np.cos(theta/2)"
   ]
  },
  {
   "cell_type": "code",
   "execution_count": 4,
   "metadata": {},
   "outputs": [],
   "source": [
    "Area_Circle = []\n",
    "\n",
    "for i in range(100000):\n",
    "    # Calculating for the outer radius\n",
    "    R = 25\n",
    "    h = 15\n",
    "    theta = 2 * np.arccos(1-h/R)\n",
    "    a = -R * np.sin(theta/2)\n",
    "    b = R * np.sin(theta/2)\n",
    "    A_outerrad = MC(func=area_circ_segment, a = a, b=b, n=100000)\n",
    "    \n",
    "    # Calculating for the inner radius\n",
    "    R = 20\n",
    "    h = 10\n",
    "    theta = 2 * np.arccos(1 - h/R)\n",
    "    a = -R * np.sin(theta/2)\n",
    "    b = R * np.sin(theta/2)\n",
    "    A_innerrad = MC(func = area_circ_segment, a = a, b = b, n=100000)\n",
    "    \n",
    "    Area_Circle.append(2*(A_outerrad - A_innerrad))"
   ]
  },
  {
   "cell_type": "code",
   "execution_count": 5,
   "metadata": {},
   "outputs": [
    {
     "name": "stdout",
     "output_type": "stream",
     "text": [
      "Circular portion is determined to be: 499.5052330561189mm^2 with a standard deviation of 4.205686929886594mm^2\n"
     ]
    }
   ],
   "source": [
    "mean_Circle = np.mean(Area_Circle)\n",
    "sd_Circle = np.std(Area_Circle)\n",
    "print(f'Circular portion is determined to be: {mean_Circle}mm^2 with a standard deviation of {sd_Circle}mm^2')"
   ]
  },
  {
   "cell_type": "markdown",
   "metadata": {},
   "source": [
    "# For the rectangle"
   ]
  },
  {
   "cell_type": "code",
   "execution_count": 6,
   "metadata": {},
   "outputs": [],
   "source": [
    "def PointInRectangle(x,y, Cx, Cy):\n",
    "    if (x < Cx) and (y < Cy):\n",
    "        return True\n",
    "    return False\n",
    "\n",
    "def approxRectangleArea(Cx, Cy, points):\n",
    "    x_enclosed = Cx + 0.01\n",
    "    y_enclosed = Cy + 0.01\n",
    "    pointsInside = 0 \n",
    "    for i in range(points):\n",
    "        x = np.random.random() * x_enclosed\n",
    "        y = np.random.random() * y_enclosed\n",
    "        if PointInRectangle(x,y,Cx,Cy):\n",
    "            pointsInside = pointsInside + 1\n",
    "    return pointsInside / points * (Cx * Cy)"
   ]
  },
  {
   "cell_type": "code",
   "execution_count": 7,
   "metadata": {},
   "outputs": [
    {
     "name": "stdout",
     "output_type": "stream",
     "text": [
      "Area of the rectangle is determined to be: 1399.1031879999998mm^2 with a standard deviation of 0.3510324153921341mm^2\n"
     ]
    }
   ],
   "source": [
    "Area_Rectangle = []\n",
    "\n",
    "for i in range(100000):\n",
    "    vals = approxRectangleArea(Cx = 70, Cy = 20, points = 100000)\n",
    "    Area_Rectangle.append(vals)\n",
    "    \n",
    "mean_Rectangle = np.mean(Area_Rectangle)\n",
    "sd_Rectangle = np.std(Area_Rectangle)\n",
    "print(f'Area of the rectangle is determined to be: {mean_Rectangle}mm^2 with a standard deviation of {sd_Rectangle}mm^2')"
   ]
  },
  {
   "cell_type": "markdown",
   "metadata": {},
   "source": [
    "# For the whole area"
   ]
  },
  {
   "cell_type": "code",
   "execution_count": 8,
   "metadata": {},
   "outputs": [
    {
     "name": "stdout",
     "output_type": "stream",
     "text": [
      "The total area is determined to be: 1898.6084210561187mm^2 +- 4.2203111625655mm^2\n"
     ]
    }
   ],
   "source": [
    "Area_Nissan_Logo = mean_Circle + mean_Rectangle\n",
    "Area_Error = np.sqrt(sd_Circle**2 + sd_Rectangle**2)\n",
    "print(f'The total area is determined to be: {Area_Nissan_Logo}mm^2 +- {Area_Error}mm^2')"
   ]
  },
  {
   "cell_type": "code",
   "execution_count": null,
   "metadata": {},
   "outputs": [],
   "source": []
  }
 ],
 "metadata": {
  "kernelspec": {
   "display_name": "Python 3",
   "language": "python",
   "name": "python3"
  },
  "language_info": {
   "codemirror_mode": {
    "name": "ipython",
    "version": 3
   },
   "file_extension": ".py",
   "mimetype": "text/x-python",
   "name": "python",
   "nbconvert_exporter": "python",
   "pygments_lexer": "ipython3",
   "version": "3.8.5"
  }
 },
 "nbformat": 4,
 "nbformat_minor": 4
}
