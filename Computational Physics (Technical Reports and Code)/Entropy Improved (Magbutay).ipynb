{
 "cells": [
  {
   "cell_type": "markdown",
   "metadata": {},
   "source": [
    "## Importing the necessary libraries"
   ]
  },
  {
   "cell_type": "code",
   "execution_count": 3,
   "metadata": {},
   "outputs": [],
   "source": [
    "import sys\n",
    "from pylab import *\n",
    "import matplotlib.pyplot as plt\n",
    "import numpy as np\n",
    "from random import randint"
   ]
  },
  {
   "cell_type": "code",
   "execution_count": 4,
   "metadata": {},
   "outputs": [],
   "source": [
    "#create a function that calculates and plots the diffusion and entropy\n",
    "def plotEntropy(grid_size=5, N=1000, n_atoms=400, k = 1.38065e-23):\n",
    "    \n",
    "    #empty array to append the entropy value per step\n",
    "    entropy = []\n",
    "    \n",
    "    #array that would contain the position of the atoms\n",
    "    atoms = (np.ones([n_atoms , 2]) * 100).astype(int)\n",
    "    \n",
    "    for i in range(N):\n",
    "        \n",
    "        #list to count atoms for each grid\n",
    "        atom_count = np.zeros([int(200/grid_size), int(200/grid_size)])\n",
    "        \n",
    "        #go through all atoms\n",
    "        for j in range (n_atoms) :\n",
    "            # Move each atom (or not) in the x and/or y direction.\n",
    "            atoms[j, 0] += randint (-1 ,1)\n",
    "            atoms[j, 1] += randint (-1 ,1)\n",
    "            \n",
    "            # Check for boundary collision\n",
    "            x , y = (atoms[j , 0], atoms[j , 1])\n",
    "            if x == 200:\n",
    "                atoms[j , 0] = 198\n",
    "            elif x == 0 :\n",
    "                atoms[j , 0] = 2\n",
    "            if y == 200:\n",
    "                atoms[j , 1] = 198\n",
    "            elif y == 0 :\n",
    "                atoms[j , 1] = 2\n",
    "        \n",
    "            #count atoms in each grid\n",
    "            atom_count[atoms[j, 0] // grid_size, atoms[j, 1] // grid_size] += 1\n",
    "        \n",
    "        #get entropy for this step\n",
    "        P = (atom_count/n_atoms)\n",
    "        sumP = P * np.log(P)\n",
    "        nans = np.isnan(sumP)\n",
    "        sumP[nans] = 0\n",
    "        entropy.append(-k * sum(sumP))\n",
    "        \n",
    "    \n",
    "    #plot the diffusion\n",
    "    line, = plot(atoms[:,0], atoms[:,1], 'r+')\n",
    "    xlim(0,200)\n",
    "    ylim(0,200)\n",
    "    draw()\n",
    "    \n",
    "    #see how things look now\n",
    "    line.set_xdata(atoms[:, 0])\n",
    "    line.set_ydata(atoms[:, 1])\n",
    "    draw( )\n",
    "    pause(0.01)\n",
    "    \n",
    "    #plot the entropy vs time step    \n",
    "    plt.figure(figsize=(12, 5))\n",
    "    plt.title('Entropy of the system vs Time Step')\n",
    "    plt.plot(entropy)\n",
    "    plt.xlabel('Time')\n",
    "    plt.ylabel('Entropy')\n",
    "    plt.show()\n",
    "    entropy.clear()"
   ]
  },
  {
   "cell_type": "code",
   "execution_count": null,
   "metadata": {},
   "outputs": [],
   "source": []
  }
 ],
 "metadata": {
  "kernelspec": {
   "display_name": "Python 3",
   "language": "python",
   "name": "python3"
  },
  "language_info": {
   "codemirror_mode": {
    "name": "ipython",
    "version": 3
   },
   "file_extension": ".py",
   "mimetype": "text/x-python",
   "name": "python",
   "nbconvert_exporter": "python",
   "pygments_lexer": "ipython3",
   "version": "3.8.5"
  }
 },
 "nbformat": 4,
 "nbformat_minor": 4
}
