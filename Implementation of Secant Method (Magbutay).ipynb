{
 "cells": [
  {
   "cell_type": "markdown",
   "metadata": {},
   "source": [
    "# Implementation of Secant Method\n",
    "Task: Write a function that implements the secant method of root finding."
   ]
  },
  {
   "cell_type": "markdown",
   "metadata": {},
   "source": [
    "### Defining a root finding function that implements the secant method"
   ]
  },
  {
   "cell_type": "code",
   "execution_count": 1,
   "metadata": {},
   "outputs": [],
   "source": [
    "import math\n",
    "\n",
    "def secant(f, a , b, tol = 1e-10, itersmax = 100):\n",
    "    \n",
    "    fa = f(a)\n",
    "    if abs(fa) < tol:\n",
    "        return a\n",
    "    \n",
    "    fb = f(b)\n",
    "    if abs(fb) < tol:\n",
    "        return b\n",
    "    \n",
    "    if fa*fb > 0:\n",
    "        print(\"f(a) and f(b) must have different signs\")\n",
    "        return None\n",
    "    \n",
    "    for _ in range(itersmax):\n",
    "        \n",
    "        c = (a*fb - b*fa)/(fb - fa)\n",
    "        fc = f(c)\n",
    "        \n",
    "        if abs(b - a) < tol:\n",
    "            break\n",
    "        \n",
    "        if abs(fc) < tol:\n",
    "            break\n",
    "            \n",
    "        if fa*fc > 0:\n",
    "            a, fa = c, fc\n",
    "            \n",
    "        if fb*fc > 0:\n",
    "            b, fb = c, fc\n",
    "            \n",
    "    return c"
   ]
  },
  {
   "cell_type": "markdown",
   "metadata": {},
   "source": [
    "## Testing our function"
   ]
  },
  {
   "cell_type": "code",
   "execution_count": 2,
   "metadata": {},
   "outputs": [
    {
     "name": "stdout",
     "output_type": "stream",
     "text": [
      "Solution of 1st equation: x = 1.6180339887125696, f(x) = -8.346168201001092e-11\n"
     ]
    }
   ],
   "source": [
    "func = lambda x: x**2 - x - 1\n",
    "\n",
    "\n",
    "a = 1 \n",
    "b = 5\n",
    "x = secant(func, a, b)\n",
    "\n",
    "print(\"Solution of 1st equation: x = {}, f(x) = {}\".format(x,func(x)))"
   ]
  },
  {
   "cell_type": "code",
   "execution_count": 4,
   "metadata": {},
   "outputs": [
    {
     "name": "stdout",
     "output_type": "stream",
     "text": [
      "Solution of 2nd equation: x = 1.1477576321094496, f(x) = -9.221823304983445e-11\n"
     ]
    }
   ],
   "source": [
    "func2 = lambda x: x**2 - math.exp(-x) - 1\n",
    "x2 = secant(func2, -1, 5)\n",
    "print(\"Solution of 2nd equation: x = {}, f(x) = {}\".format(x2, func2(x2)))"
   ]
  },
  {
   "cell_type": "code",
   "execution_count": null,
   "metadata": {},
   "outputs": [],
   "source": []
  }
 ],
 "metadata": {
  "kernelspec": {
   "display_name": "Python 3",
   "language": "python",
   "name": "python3"
  },
  "language_info": {
   "codemirror_mode": {
    "name": "ipython",
    "version": 3
   },
   "file_extension": ".py",
   "mimetype": "text/x-python",
   "name": "python",
   "nbconvert_exporter": "python",
   "pygments_lexer": "ipython3",
   "version": "3.8.5"
  }
 },
 "nbformat": 4,
 "nbformat_minor": 4
}
