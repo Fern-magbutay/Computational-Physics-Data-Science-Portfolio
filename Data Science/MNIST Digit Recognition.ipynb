{
 "cells": [
  {
   "cell_type": "code",
   "execution_count": 1,
   "metadata": {},
   "outputs": [],
   "source": [
    "class LogisticRegression():\n",
    "    \n",
    "    def __init__(self, init_params, alpha = 0.01, c = 1.0 , max_iters = 1000, class_n = 0):\n",
    "        self.params = init_params\n",
    "        self.alpha = alpha\n",
    "        self.C = C\n",
    "        self.max_iters = max_iters\n",
    "        self.class_n = class_n\n",
    "        \n",
    "    @staticmethod\n",
    "    def sigmoid(x):\n",
    "        return 1.0 / (1.0 + np.exp(-x)) \n",
    "    \n",
    "    def get_sigmoid(self, x_bar, params):\n",
    "        return self.sigmoid(np.dot(params, x_bar))\n",
    "    \n",
    "    def get_cost(self, X, y, params):\n",
    "        cost = 0\n",
    "        m = len(X)\n",
    "        for x, y in zip(X,y):\n",
    "            x_bar = np.array(np.insert(x, 0, 1))\n",
    "            y_hat = self.get_sigmoid(x_bar, params)\n",
    "            \n",
    "            y_binary = 1.0 if y == self.class_n else 0.0\n",
    "            cost += (y_binary * np.log(y_hat) + (1.0 - y_binary) * np.log(1 - y_hat)) / m - (self.C*sum(params**2) / (2*m))\n",
    "        return cost\n",
    "    \n",
    "    def train(self, X_train, y_train):\n",
    "        cost_val = []\n",
    "        m = len(X_train)\n",
    "        iters = 0\n",
    "        while iters < self.max_iters:\n",
    "            cost_val.append(self.get_cost(X_train, y_train, self.params))\n",
    "            for i, xy in enumerate(zip(X_train, y_train)):\n",
    "                x_bar = np.array(np.insert(xy[0], 0, 1))\n",
    "                y_hat = self.get_sigmoid(x_bar, self.params)\n",
    "                y_binary = 1.0 if xy[1] == self.class_n else 0.0\n",
    "                gradient = (y_binary - y_hat) * x_bar\n",
    "                self.params = self.params + (self.alpha / m) * (gradient - self.C*self.params)\n",
    "            iteration +=1\n",
    "        return self.params, cost_val\n",
    "\n",
    "    def test(self, X_test):\n",
    "        ind = []\n",
    "        prob = []\n",
    "        for i, x in enumerate(X_test):\n",
    "            x_bar = np.array(np.insert(x, 0, 1))\n",
    "            y_hat = self.get_h(x_bar, self.params)\n",
    "            if y_hat >= 0.5:\n",
    "                ind.append(i)\n",
    "                prob.append(y_hat)\n",
    "        return ind, prob"
   ]
  },
  {
   "cell_type": "code",
   "execution_count": null,
   "metadata": {},
   "outputs": [],
   "source": []
  }
 ],
 "metadata": {
  "kernelspec": {
   "display_name": "Python 3",
   "language": "python",
   "name": "python3"
  },
  "language_info": {
   "codemirror_mode": {
    "name": "ipython",
    "version": 3
   },
   "file_extension": ".py",
   "mimetype": "text/x-python",
   "name": "python",
   "nbconvert_exporter": "python",
   "pygments_lexer": "ipython3",
   "version": "3.8.5"
  }
 },
 "nbformat": 4,
 "nbformat_minor": 4
}
