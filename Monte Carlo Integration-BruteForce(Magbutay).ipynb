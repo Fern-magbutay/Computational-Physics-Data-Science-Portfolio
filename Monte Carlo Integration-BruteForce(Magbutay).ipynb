{
 "cells": [
  {
   "cell_type": "markdown",
   "metadata": {},
   "source": [
    "# Monte Carlo Integration\n",
    "## By Anfernee Magbutay"
   ]
  },
  {
   "cell_type": "markdown",
   "metadata": {},
   "source": [
    "### The Monte Carlo Integration Technique is given by\n",
    "$ (b-a) \\frac{1}{N} \\sum_i f(X_i) \\approx \\int_a^b f(x) dx$\n",
    "\\\n",
    "We are then tasked to evaluate the integral of \n",
    "\\\n",
    "\\\n",
    "$ F_1 = \\int_0^{2\\pi} sin(100x) dx $\n",
    "\\\n",
    "\\\n",
    "and\n",
    "\\\n",
    "\\\n",
    "$F_2 = \\int_0^{2\\pi} sin^x(100x) dx  $"
   ]
  },
  {
   "cell_type": "code",
   "execution_count": 1,
   "metadata": {},
   "outputs": [],
   "source": [
    "import numpy as np\n",
    "from scipy import random\n",
    "import matplotlib.pyplot as plt\n",
    "import seaborn as sns"
   ]
  },
  {
   "cell_type": "markdown",
   "metadata": {},
   "source": [
    "### Establish the limits of your integral"
   ]
  },
  {
   "cell_type": "code",
   "execution_count": 2,
   "metadata": {},
   "outputs": [],
   "source": [
    "a = 0\n",
    "b = 2*(np.pi)\n",
    "N = 1000\n",
    "xrand = np.random.uniform(a, b, N)\n",
    "\n",
    "def func(x):\n",
    "    return np.sin(100*x)"
   ]
  },
  {
   "cell_type": "markdown",
   "metadata": {},
   "source": [
    "### Summing the values of $ f(X_i) $"
   ]
  },
  {
   "cell_type": "code",
   "execution_count": 3,
   "metadata": {},
   "outputs": [],
   "source": [
    "integral = 0.0\n",
    "\n",
    "for i in range(N):\n",
    "    integral += func(xrand[i])\n",
    "\n",
    "answer = ( (b-a)/float(N) ) * integral"
   ]
  },
  {
   "cell_type": "code",
   "execution_count": 4,
   "metadata": {},
   "outputs": [
    {
     "name": "stdout",
     "output_type": "stream",
     "text": [
      "The answer to the integral is  0.30966297186608244\n"
     ]
    }
   ],
   "source": [
    "print(\"The answer to the integral is \", answer)"
   ]
  },
  {
   "cell_type": "markdown",
   "metadata": {},
   "source": [
    "## The solution for $F_2 = \\int_0^{2\\pi} sin^x(100x) dx  $ can be solved as"
   ]
  },
  {
   "cell_type": "code",
   "execution_count": 5,
   "metadata": {},
   "outputs": [],
   "source": [
    "a = 0\n",
    "b = 2*(np.pi)\n",
    "N = 1000\n",
    "xrand = np.linspace(a, b, N)\n",
    "\n",
    "def func2(x):\n",
    "    return (np.sin(100*x)**x)"
   ]
  },
  {
   "cell_type": "code",
   "execution_count": 6,
   "metadata": {},
   "outputs": [
    {
     "name": "stderr",
     "output_type": "stream",
     "text": [
      "<ipython-input-5-cc96e68d5585>:7: RuntimeWarning: invalid value encountered in double_scalars\n",
      "  return (np.sin(100*x)**x)\n"
     ]
    }
   ],
   "source": [
    "second_integral = 0.0\n",
    "\n",
    "for i in range(N):\n",
    "    second_integral += func2(xrand[i])\n",
    "\n",
    "second_answer = ( (b-a)/float(N) ) * integral"
   ]
  },
  {
   "cell_type": "code",
   "execution_count": 7,
   "metadata": {},
   "outputs": [
    {
     "name": "stdout",
     "output_type": "stream",
     "text": [
      "The answer to the integral is  0.30966297186608244\n"
     ]
    }
   ],
   "source": [
    "print(\"The answer to the integral is \", second_answer)"
   ]
  },
  {
   "cell_type": "code",
   "execution_count": null,
   "metadata": {},
   "outputs": [],
   "source": []
  }
 ],
 "metadata": {
  "kernelspec": {
   "display_name": "Python 3",
   "language": "python",
   "name": "python3"
  },
  "language_info": {
   "codemirror_mode": {
    "name": "ipython",
    "version": 3
   },
   "file_extension": ".py",
   "mimetype": "text/x-python",
   "name": "python",
   "nbconvert_exporter": "python",
   "pygments_lexer": "ipython3",
   "version": "3.8.5"
  }
 },
 "nbformat": 4,
 "nbformat_minor": 4
}
